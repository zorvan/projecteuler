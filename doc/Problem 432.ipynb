{
 "cells": [
  {
   "cell_type": "markdown",
   "metadata": {},
   "source": [
    "# Problem 432 : Sum of Sum of Divisors"
   ]
  },
  {
   "cell_type": "code",
   "execution_count": 113,
   "metadata": {},
   "outputs": [],
   "source": [
    "import math\n",
    "import matplotlib.pyplot as plt\n",
    "from timeit import default_timer as timer\n",
    "from datetime import timedelta"
   ]
  },
  {
   "cell_type": "code",
   "execution_count": 114,
   "metadata": {},
   "outputs": [],
   "source": [
    "def timecost(f,n):\n",
    "    start = timer()\n",
    "    f(n)\n",
    "    end = timer()\n",
    "    return timedelta(seconds=end-start).total_seconds()"
   ]
  },
  {
   "cell_type": "code",
   "execution_count": 115,
   "metadata": {},
   "outputs": [],
   "source": [
    "def isprime (n):\n",
    "    if n % 2 == 0: return False\n",
    "    \n",
    "    nsqrt = int(math.sqrt(n))\n",
    "\n",
    "    i=3\n",
    "    while i <= nsqrt :\n",
    "        remainder = n % i\n",
    "        if remainder == 0 : \n",
    "            return False\n",
    "        else: \n",
    "            i = i + 2\n",
    "    return True\n",
    "            "
   ]
  },
  {
   "cell_type": "code",
   "execution_count": 116,
   "metadata": {},
   "outputs": [],
   "source": [
    "def nextprime (n):\n",
    "    if n % 2 == 0:\n",
    "        i = n + 1\n",
    "    else:\n",
    "        i = n + 2\n",
    "        \n",
    "    while not isprime(i):\n",
    "        i = i  + 2\n",
    "    return i\n",
    "    "
   ]
  },
  {
   "cell_type": "code",
   "execution_count": 186,
   "metadata": {},
   "outputs": [],
   "source": [
    "def divisors(n):\n",
    "    divs = []\n",
    "    nsqrt = int(math.sqrt(n))\n",
    "    i = 1\n",
    "    while i <= nsqrt :\n",
    "        quotient = n/i\n",
    "        remainder = n % i\n",
    "        if remainder == 0 : \n",
    "            divs.extend([i,quotient])\n",
    "        i = i + 1\n",
    "    \n",
    "    divs = list(set(divs))\n",
    "    divs.sort()\n",
    "    return divs"
   ]
  },
  {
   "cell_type": "code",
   "execution_count": 203,
   "metadata": {},
   "outputs": [],
   "source": [
    "# Naive Sum of Sum of Divisors\n",
    "def naive_ssofdivisors(n):\n",
    "    S = 0\n",
    "    for i in range(1, n+1):\n",
    "        S = S + sum(divisors(i))\n",
    "    return S"
   ]
  },
  {
   "cell_type": "code",
   "execution_count": 204,
   "metadata": {},
   "outputs": [],
   "source": [
    "# Fast Sum of Sum of Divisors\n",
    "def fast_ssofdivisors(n):\n",
    "    S = 0\n",
    "    for i in range(1, n+1):\n",
    "        S = S + i * (n / i)\n",
    "    return S"
   ]
  },
  {
   "cell_type": "code",
   "execution_count": 202,
   "metadata": {},
   "outputs": [
    {
     "data": {
      "text/plain": [
       "0.860565"
      ]
     },
     "execution_count": 202,
     "metadata": {},
     "output_type": "execute_result"
    }
   ],
   "source": [
    "timecost(fast_sumofdivisors,10**7)"
   ]
  },
  {
   "cell_type": "code",
   "execution_count": 201,
   "metadata": {},
   "outputs": [
    {
     "data": {
      "text/plain": [
       "2.618114"
      ]
     },
     "execution_count": 201,
     "metadata": {},
     "output_type": "execute_result"
    }
   ],
   "source": [
    "timecost(naive_sumofdivisors,10**5)"
   ]
  },
  {
   "cell_type": "code",
   "execution_count": 206,
   "metadata": {},
   "outputs": [],
   "source": [
    "def naive_solution(n):\n",
    "    S = 0\n",
    "    for i in range(1,n+1):\n",
    "        for j in range(1,n+1):\n",
    "            S = S + sum(divisors(i*j))\n",
    "    return S"
   ]
  },
  {
   "cell_type": "code",
   "execution_count": 210,
   "metadata": {},
   "outputs": [
    {
     "data": {
      "text/plain": [
       "57.426445"
      ]
     },
     "execution_count": 210,
     "metadata": {},
     "output_type": "execute_result"
    }
   ],
   "source": [
    "timecost(naive_solution,1000)"
   ]
  },
  {
   "cell_type": "code",
   "execution_count": 211,
   "metadata": {},
   "outputs": [
    {
     "data": {
      "text/plain": [
       "[<matplotlib.lines.Line2D at 0x7f3056dcab90>]"
      ]
     },
     "execution_count": 211,
     "metadata": {},
     "output_type": "execute_result"
    },
    {
     "data": {
      "image/png": "[encoded data removed]",
      "text/plain": [
       "<Figure size 432x288 with 1 Axes>"
      ]
     },
     "metadata": {
      "needs_background": "light"
     },
     "output_type": "display_data"
    }
   ],
   "source": [
    "tcost = [timecost(naive_solution,i) for i in range(1,100)]\n",
    "plt.plot(tcost)"
   ]
  },
  {
   "cell_type": "code",
   "execution_count": null,
   "metadata": {},
   "outputs": [],
   "source": []
  },
  {
   "cell_type": "code",
   "execution_count": null,
   "metadata": {},
   "outputs": [],
   "source": []
  }
 ],
 "metadata": {
  "kernelspec": {
   "display_name": "Python 3",
   "language": "python",
   "name": "python3"
  },
  "language_info": {
   "codemirror_mode": {
    "name": "ipython",
    "version": 2
   },
   "file_extension": ".py",
   "mimetype": "text/x-python",
   "name": "python",
   "nbconvert_exporter": "python",
   "pygments_lexer": "ipython2",
   "version": "2.7.18"
  }
 },
 "nbformat": 4,
 "nbformat_minor": 2
}
